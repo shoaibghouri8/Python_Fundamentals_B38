{
 "cells": [
  {
   "cell_type": "code",
   "execution_count": 1,
   "metadata": {},
   "outputs": [
    {
     "name": "stdout",
     "output_type": "stream",
     "text": [
      "Salam Fayaz Sir\n"
     ]
    }
   ],
   "source": [
    "print(\"Salam Fayaz Sir\")"
   ]
  },
  {
   "cell_type": "code",
   "execution_count": 2,
   "metadata": {},
   "outputs": [
    {
     "name": "stdout",
     "output_type": "stream",
     "text": [
      "I'm Murtuza from your Python Training Batch 38.\n"
     ]
    }
   ],
   "source": [
    "print(\"I'm Murtuza from your Python Training Batch 38.\")"
   ]
  },
  {
   "cell_type": "code",
   "execution_count": 3,
   "metadata": {},
   "outputs": [
    {
     "name": "stdout",
     "output_type": "stream",
     "text": [
      "It was a pleasant experience with the job today and your way of teaching seemed like I can learn and upskill myself with much ease. Definetly with your guidance and support :)\n"
     ]
    }
   ],
   "source": [
    "print(\"It was a pleasant experience with the job today and your way of teaching seemed like I can learn and upskill myself with much ease. Definetly with your guidance and support :)\")"
   ]
  },
  {
   "cell_type": "code",
   "execution_count": 4,
   "metadata": {},
   "outputs": [
    {
     "name": "stdout",
     "output_type": "stream",
     "text": [
      "I'd also appreciate if you can give us 5-10 minutes for Q&A before ending session and notify us of hot topics in while training saying that we'll have to pose question's or you're gonna ask us question based on such hot topics.\n"
     ]
    }
   ],
   "source": [
    "print(\"I'd also appreciate if you can give us 5-10 minutes for Q&A before ending session and notify us of hot topics in while training saying that we'll have to pose question's or you're gonna ask us question based on such hot topics.\")"
   ]
  },
  {
   "cell_type": "code",
   "execution_count": 6,
   "metadata": {},
   "outputs": [
    {
     "name": "stdout",
     "output_type": "stream",
     "text": [
      "Again, Thanks you very much for you and Shahid Bhai IBM for getting me aboard for the training so I can upskill myself and get a good job with all my expertise which I'm gonna gain by these trinings and blessing of you brothers.\n"
     ]
    }
   ],
   "source": [
    "print(\"Again, Thanks you very much for you and Shahid Bhai IBM for getting me aboard for the training so I can upskill myself and get a good job with all my expertise which I'm gonna gain by these trinings and blessing of you brothers.\")"
   ]
  },
  {
   "cell_type": "code",
   "execution_count": 7,
   "metadata": {},
   "outputs": [
    {
     "name": "stdout",
     "output_type": "stream",
     "text": [
      "May Allah reward you with greatest in this world and hereafter, See You Soon, Allah Hafiz :)\n"
     ]
    }
   ],
   "source": [
    "print(\"May Allah reward you with greatest in this world and hereafter, See You Soon, Allah Hafiz :)\")"
   ]
  },
  {
   "cell_type": "code",
   "execution_count": null,
   "metadata": {},
   "outputs": [],
   "source": []
  }
 ],
 "metadata": {
  "kernelspec": {
   "display_name": "Python 3",
   "language": "python",
   "name": "python3"
  },
  "language_info": {
   "codemirror_mode": {
    "name": "ipython",
    "version": 3
   },
   "file_extension": ".py",
   "mimetype": "text/x-python",
   "name": "python",
   "nbconvert_exporter": "python",
   "pygments_lexer": "ipython3",
   "version": "3.8.5"
  }
 },
 "nbformat": 4,
 "nbformat_minor": 4
}
